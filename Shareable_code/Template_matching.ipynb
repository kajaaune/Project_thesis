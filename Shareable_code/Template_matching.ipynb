{
 "cells": [
  {
   "cell_type": "code",
   "execution_count": null,
   "metadata": {},
   "outputs": [],
   "source": [
    "%matplotlib qt5\n",
    "\n",
    "from pathlib import Path\n",
    "import pickle\n",
    "\n",
    "from orix import io, plot\n",
    "from orix.vector import Vector3d\n",
    "\n",
    "import hyperspy.api as hs #General hyperspy package\n",
    "import pyxem as pxm #Electron diffraction tools based on hyperspy\n",
    "import numpy as np #General numerical and matrix support\n",
    "import matplotlib.pyplot as plt #Plotting tools\n",
    "import matplotlib.colors as mcolors #Some plotting color tools\n",
    "from matplotlib.cm import ScalarMappable\n",
    "import diffpy #Electron diffraction tools\n",
    "import requests\n",
    "\n",
    "#Import indexation and plotting tools\n",
    "from diffsims.generators.rotation_list_generators import get_beam_directions_grid\n",
    "from diffsims.libraries.structure_library import StructureLibrary\n",
    "from diffsims.generators.diffraction_generator import DiffractionGenerator\n",
    "from diffsims.generators.library_generator import DiffractionLibraryGenerator\n",
    "from pyxem.utils import indexation_utils as iutls\n",
    "from pyxem.utils import plotting_utils as putls\n",
    "from pyxem.utils import polar_transform_utils as ptutls\n",
    "from pyxem.utils import expt_utils as eutls\n",
    "\n",
    "#Import orientation handling tools\n",
    "from orix.quaternion import Rotation, symmetry, Orientation\n",
    "from orix.vector.vector3d import Vector3d\n",
    "from orix.projections import StereographicProjection\n",
    "from orix import plot\n",
    "\n",
    "import matplotlib\n",
    "matplotlib.rcParams[\"backend\"] = \"Agg\"\n",
    "from orix.crystal_map.crystal_map import CrystalMap"
   ]
  },
  {
   "cell_type": "markdown",
   "metadata": {},
   "source": [
    "# One notebook for all the processes needed to template match centered data"
   ]
  },
  {
   "cell_type": "markdown",
   "metadata": {},
   "source": [
    "## Template matching"
   ]
  },
  {
   "cell_type": "code",
   "execution_count": null,
   "metadata": {},
   "outputs": [],
   "source": [
    "def change_step_size(xmap, pixel_size, scan_unit):\n",
    "    \"\"\"Change the step size of an orix CrystalMap\n",
    "    \"\"\"\n",
    "    x = xmap.x * pixel_size\n",
    "    y = xmap.y * pixel_size\n",
    "    rot = xmap.rotations\n",
    "    phaseid = xmap.phase_id\n",
    "    prop = xmap.prop\n",
    "    is_in_data = xmap.is_in_data\n",
    "    phaselist = xmap.phases\n",
    "    new_xmap = CrystalMap(rotations = rot,\n",
    "                        phase_id = phaseid,\n",
    "                        x = x,\n",
    "                        y = y,\n",
    "                        prop = prop,\n",
    "                        scan_unit = scan_unit,\n",
    "                        is_in_data = is_in_data,\n",
    "                        phase_list=phaselist)\n",
    "    return new_xmap"
   ]
  },
  {
   "cell_type": "code",
   "execution_count": null,
   "metadata": {},
   "outputs": [],
   "source": [
    "# Template matching and plotting\n",
    "def tm_and_plot(libpath,datapath,name): \n",
    "    rot_z = 150. \n",
    "    pixel_size = 20.372\n",
    "    scan_unit = \"nm\"\n",
    "    # load data\n",
    "    with open(libpath, 'rb') as fp: \n",
    "        library = pickle.load(fp)\n",
    "    processed_data = hs.load(str(datapath), lazy=True)\n",
    "    cs = symmetry.Oh\n",
    "    # Correct scale\n",
    "    scale = 0.009451434347767504\n",
    "    processed_data.set_diffraction_calibration(scale)\n",
    "    processed_data.set_scan_calibration(scale)\n",
    "\n",
    "    frac_keep = 1 \n",
    "    result, phasedict = iutls.index_dataset_with_template_rotation(processed_data.inav[::1],\n",
    "                                                        library,\n",
    "                                                    phases = [\"LNMO\"],  # if we have multiple phases we can also specify which ones we want to consider. If it's not specified, all phases are used.\n",
    "                                                    n_best = 1, \n",
    "                                                    frac_keep = frac_keep,\n",
    "                                                    n_keep = None,\n",
    "                                                    delta_r = 1,\n",
    "                                                    delta_theta = 1,\n",
    "                                                    max_r = np.min(processed_data.axes_manager.signal_shape)//2,\n",
    "                                                    intensity_transform_function=lambda x: x**0.09,\n",
    "                                                    normalize_images = True,\n",
    "                                                    normalize_templates=True,\n",
    "                                                    )\n",
    "    \n",
    "    # Correct for scan rotation\n",
    "    result[\"orientation\"][:,:,:,0] = result[\"orientation\"][:,:,:,0] + rot_z\n",
    "    # Set scale\n",
    "    \n",
    "    xmap = iutls.results_dict_to_crystal_map(result, phasedict, diffraction_library=library)\n",
    "    xmap.phases[0].space_group = 227 \n",
    "\n",
    "    xmap.correlation = np.nan_to_num(xmap.correlation) # If any correlation scores are NaN\n",
    "    xmap = change_step_size(xmap, pixel_size, scan_unit)\n",
    "\n",
    "    # Save as h5 and ang format\n",
    "    io.save(f\"./{name}.h5\", xmap) \n",
    "    io.save(f\"./{name}.ang\",xmap)\n",
    "\n",
    "    # Make crystal map\n",
    "    ipf_key = plot.IPFColorKeyTSL(xmap.phases[0].point_group, direction=Vector3d.xvector())\n",
    "    rgb = ipf_key.orientation2color(xmap.orientations)\n",
    "    fig = xmap.plot(rgb, remove_padding=True, return_figure=True)\n"
   ]
  },
  {
   "cell_type": "markdown",
   "metadata": {},
   "source": [
    "## Run template matching for dataset"
   ]
  },
  {
   "cell_type": "code",
   "execution_count": null,
   "metadata": {},
   "outputs": [],
   "source": [
    "tm_and_plot(\"./library.pkl\",'./example_sample_dataset.zspy','xmap')"
   ]
  }
 ],
 "metadata": {
  "kernelspec": {
   "display_name": "Python 3",
   "language": "python",
   "name": "python3"
  },
  "language_info": {
   "codemirror_mode": {
    "name": "ipython",
    "version": 3
   },
   "file_extension": ".py",
   "mimetype": "text/x-python",
   "name": "python",
   "nbconvert_exporter": "python",
   "pygments_lexer": "ipython3",
   "version": "3.11.4"
  }
 },
 "nbformat": 4,
 "nbformat_minor": 2
}
