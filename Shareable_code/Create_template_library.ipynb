{
 "cells": [
  {
   "cell_type": "markdown",
   "metadata": {},
   "source": [
    "# Creating the template library"
   ]
  },
  {
   "cell_type": "code",
   "execution_count": null,
   "metadata": {},
   "outputs": [],
   "source": [
    "%matplotlib qt\n",
    "import hyperspy.api as hs #General hyperspy package\n",
    "import pyxem as pxm #Electron diffraction tools based on hyperspy\n",
    "import numpy as np #General numerical and matrix support\n",
    "import matplotlib.pyplot as plt #Plotting tools\n",
    "import matplotlib.colors as mcolors #Some plotting color tools\n",
    "from matplotlib.cm import ScalarMappable\n",
    "import diffpy #Electron diffraction tools\n",
    "import requests\n",
    "\n",
    "#Import path handling tool\n",
    "from pathlib import Path\n",
    "\n",
    "#Import indexation and plotting tools\n",
    "from diffsims.generators.rotation_list_generators import get_beam_directions_grid\n",
    "from diffsims.libraries.structure_library import StructureLibrary\n",
    "from diffsims.generators.diffraction_generator import DiffractionGenerator\n",
    "from diffsims.generators.library_generator import DiffractionLibraryGenerator\n",
    "from pyxem.utils import indexation_utils as iutls\n",
    "from pyxem.utils import plotting_utils as putls\n",
    "from pyxem.utils import polar_transform_utils as ptutls\n",
    "from pyxem.utils import expt_utils as eutls\n",
    "\n",
    "#Import orientation handling tools\n",
    "from orix.quaternion import Rotation, symmetry, Orientation\n",
    "from orix.vector.vector3d import Vector3d\n",
    "from orix.projections import StereographicProjection\n",
    "from orix import plot\n",
    "\n",
    "import pickle"
   ]
  },
  {
   "cell_type": "markdown",
   "metadata": {},
   "source": [
    "## Creating the template library for LNMO\n",
    "First the pre processed dataset is loaded."
   ]
  },
  {
   "cell_type": "code",
   "execution_count": null,
   "metadata": {},
   "outputs": [],
   "source": [
    "datapath = Path('./example_sample_dataset.zspy')"
   ]
  },
  {
   "cell_type": "code",
   "execution_count": null,
   "metadata": {},
   "outputs": [],
   "source": [
    "print(f'Loading dataset {datapath.absolute()}')\n",
    "processed_data = hs.load(str(datapath), lazy=True)\n",
    "scale = 0.009451434347767504\n",
    "processed_data"
   ]
  },
  {
   "cell_type": "markdown",
   "metadata": {},
   "source": [
    "## Creating structure library"
   ]
  },
  {
   "cell_type": "code",
   "execution_count": null,
   "metadata": {},
   "outputs": [],
   "source": [
    "resolution = 0.35 #The angular spacing between each orientation\n",
    "\n",
    "euler_angles = get_beam_directions_grid('cubic', resolution, mesh='spherified_cube_edge') #Get a uniform sampling of euler angles\n",
    "print(f'Simulated {len(euler_angles)} orientations')\n",
    "\n",
    "#Use Orix to visualize the orientations\n",
    "cs = symmetry.Oh #FCC symmetry\n",
    "orientations = Orientation(Rotation.from_euler(np.deg2rad(euler_angles)), symmetry=cs)\n",
    "orientations.scatter('ipf')\n",
    "plt.gcf()\n",
    "\n",
    "#Convert the Orix orientations back to euler angles to make sure we are using the \"same\" orientations that we verified in the plots\n",
    "euler_angles = np.rad2deg(orientations.to_euler())\n",
    "\n",
    "#Load the .cif file\n",
    "structure = diffpy.structure.loadStructure(\"./LNMO.cif\")\n",
    "\n",
    "#Create a structure library\n",
    "structure_library = StructureLibrary(['LNMO'], [structure], [euler_angles])"
   ]
  },
  {
   "cell_type": "code",
   "execution_count": null,
   "metadata": {},
   "outputs": [],
   "source": [
    "minimum_intensity = 1E-20 \n",
    "max_excitation_error = 0.37E-2\n",
    "\n",
    "diff_gen = DiffractionGenerator(accelerating_voltage=200,\n",
    "                                precession_angle=1, \n",
    "                                scattering_params='xtables',\n",
    "                                shape_factor_model=\"linear\",\n",
    "                                minimum_intensity=minimum_intensity\n",
    "                                )\n",
    "lib_gen = DiffractionLibraryGenerator(diff_gen) #Create a diffraction library generator\n",
    "\n",
    "calibration = processed_data.axes_manager[-1].scale #Get the calibration from the signal\n",
    "reciprocal_radius = np.max(np.abs(processed_data.axes_manager[-1].axis)) #Get the maximum reciprocal radius to simulate\n",
    "half_shape = np.min(processed_data.axes_manager.signal_shape)//2 #Get the half-shape of the patterns\n",
    "\n",
    "library = lib_gen.get_diffraction_library(structure_library,\n",
    "                                          calibration=calibration, \n",
    "                                          reciprocal_radius=reciprocal_radius, \n",
    "                                          half_shape=half_shape, \n",
    "                                          with_direct_beam=False, \n",
    "                                          max_excitation_error=max_excitation_error\n",
    "                                         ) #Simulate diffraction patterns for your library\n",
    "\n",
    "simulations = library['LNMO']['simulations'] #Get the simulations that were produced\n",
    "simulated_patterns = hs.signals.Signal2D([simulation.get_diffraction_pattern(sigma=1, shape=processed_data.axes_manager.signal_shape) for simulation in simulations]) #Get the diffraction patterns from the simulated library and put them in a signal for visualisation\n",
    "simulated_patterns.plot(norm='symlog') #Plot the simulated patterns for verification."
   ]
  },
  {
   "cell_type": "markdown",
   "metadata": {},
   "source": [
    "## Save the templates and dictionary\n",
    "\n"
   ]
  },
  {
   "cell_type": "code",
   "execution_count": null,
   "metadata": {},
   "outputs": [],
   "source": [
    "\n",
    "with open(\"./library.pkl\", 'wb') as fp:\n",
    "    pickle.dump(library, fp)"
   ]
  }
 ],
 "metadata": {
  "kernelspec": {
   "display_name": "Python 3",
   "language": "python",
   "name": "python3"
  },
  "language_info": {
   "codemirror_mode": {
    "name": "ipython",
    "version": 3
   },
   "file_extension": ".py",
   "mimetype": "text/x-python",
   "name": "python",
   "nbconvert_exporter": "python",
   "pygments_lexer": "ipython3",
   "version": "3.11.4"
  },
  "orig_nbformat": 4
 },
 "nbformat": 4,
 "nbformat_minor": 2
}
