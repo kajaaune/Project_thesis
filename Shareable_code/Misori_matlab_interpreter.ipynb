{
 "cells": [
  {
   "cell_type": "markdown",
   "metadata": {},
   "source": [
    "# Interpret misorientation between tilts from matlab"
   ]
  },
  {
   "cell_type": "code",
   "execution_count": null,
   "metadata": {},
   "outputs": [],
   "source": [
    "%matplotlib qt5\n",
    "# All these are not needed\n",
    "from pathlib import Path\n",
    "import pickle\n",
    "\n",
    "from orix import io, plot\n",
    "# from orix.quaternion import Orientation\n",
    "from orix.vector import Vector3d\n",
    "\n",
    "import hyperspy.api as hs #General hyperspy package\n",
    "import pyxem as pxm #Electron diffraction tools based on hyperspy\n",
    "import numpy as np #General numerical and matrix support\n",
    "import matplotlib.pyplot as plt #Plotting tools\n",
    "import matplotlib.colors as mcolors #Some plotting color tools\n",
    "from matplotlib.cm import ScalarMappable\n",
    "import diffpy #Electron diffraction tools\n",
    "import requests\n",
    "\n",
    "import pandas as pd\n",
    "# import seaborn as sb\n",
    "\n",
    "#Import indexation and plotting tools\n",
    "from diffsims.generators.rotation_list_generators import get_beam_directions_grid\n",
    "from diffsims.libraries.structure_library import StructureLibrary\n",
    "from diffsims.generators.diffraction_generator import DiffractionGenerator\n",
    "from diffsims.generators.library_generator import DiffractionLibraryGenerator\n",
    "from pyxem.utils import indexation_utils as iutls\n",
    "from pyxem.utils import plotting_utils as putls\n",
    "from pyxem.utils import polar_transform_utils as ptutls\n",
    "from pyxem.utils import expt_utils as eutls\n",
    "\n",
    "#Import orientation handling tools\n",
    "from orix.quaternion import Rotation, symmetry, Orientation, Misorientation\n",
    "from orix.vector.vector3d import Vector3d\n",
    "from orix.projections import StereographicProjection\n",
    "from orix import plot\n",
    "\n",
    "from orix.crystal_map import Phase\n",
    "from orix.vector import Miller\n",
    "from diffpy.structure import Lattice, Structure\n",
    "\n"
   ]
  },
  {
   "cell_type": "code",
   "execution_count": null,
   "metadata": {},
   "outputs": [],
   "source": [
    "def to_pandas(path):\n",
    "    dfpath = Path(path)\n",
    "    data = pd.read_csv(dfpath,sep=\"\\s+\",header = None,skiprows=1)\n",
    "    data.columns = [\"x\",\"y\",\"e1\",\"e2\",\"e3\"]\n",
    "    # data.index = [chr(i) for i in range(ord('a'),ord('z')+1)]\n",
    "    # data['e1'] = np.rad2deg(data['e1'])\n",
    "    # data['e2'] = np.rad2deg(data['e2'])\n",
    "    # data['e3'] = np.rad2deg(data['e3'])\n",
    "    return data"
   ]
  },
  {
   "cell_type": "code",
   "execution_count": null,
   "metadata": {},
   "outputs": [],
   "source": [
    "# Import misorientation data from matlab script\n",
    "tiltpath1 = Path('D:/Matlab_scripts/Matlab_ori_data2/tilt1p_oris_v3.txt')\n",
    "tiltpath2 = Path('D:/Matlab_scripts/Matlab_ori_data2/tilt2p_oris_v3.txt')\n",
    "tiltpath3 = Path('D:/Matlab_scripts/Matlab_ori_data2/tilt3p_oris_v3.txt')"
   ]
  },
  {
   "cell_type": "code",
   "execution_count": null,
   "metadata": {},
   "outputs": [],
   "source": [
    "tilt1 = to_pandas(tiltpath1)\n",
    "tilt2 = to_pandas(tiltpath2)\n",
    "tilt3 = to_pandas(tiltpath3)"
   ]
  },
  {
   "cell_type": "code",
   "execution_count": null,
   "metadata": {},
   "outputs": [],
   "source": [
    "# Calculate misorientation angle between two tilts\n",
    "def misorientations(tilt_1,tilt_2):\n",
    "    misors = np.zeros((len(tilt_1['e1'])))\n",
    "    for i in range(len(tilt_1['e1'])):\n",
    "        # euler_fundamental_region\n",
    "        symm = symmetry.Oh\n",
    "            # Specify two crystal structures and symmetries\n",
    "        phase1 = Phase(\n",
    "            point_group=\"m-3m\",\n",
    "            structure=Structure(lattice=Lattice(1, 1, 1, 90, 90, 90)),\n",
    "        )\n",
    "        phase2 = phase1\n",
    "        ori1 = Orientation.from_euler([tilt_1['e1'][i],tilt_1['e2'][i],tilt_1['e3'][i]])\n",
    "        ori2 = Orientation.from_euler([tilt_2['e1'][i],tilt_2['e2'][i],tilt_2['e3'][i]])        \n",
    "        m = Misorientation(ori2 * (~ori1), symmetry = (symm, symm))\n",
    "\n",
    "        misor =  np.rad2deg(m.map_into_symmetry_reduced_zone().angle) \n",
    "        misors[i] = misor\n",
    "    df = pd.DataFrame({'x':tilt_1['x'],'y':tilt_1['y'],'Mis. angle':misors})\n",
    "    return misors,df"
   ]
  },
  {
   "cell_type": "code",
   "execution_count": null,
   "metadata": {},
   "outputs": [],
   "source": [
    "# Calculate misorientation angle and convert to dataframe\n",
    "misors12, df12 = misorientations(tilt1,tilt2)\n",
    "misors13, df13 = misorientations(tilt1,tilt3)\n",
    "misors23, df23 = misorientations(tilt2,tilt3)"
   ]
  },
  {
   "cell_type": "code",
   "execution_count": null,
   "metadata": {},
   "outputs": [],
   "source": [
    "# Plot histograms for misorientation angles of grains, between tilts\n",
    "# Tilt12\n",
    "plt.figure()\n",
    "plt.title('Misorientation angle tilts 1 and 2')\n",
    "plt.xlabel('Degrees [$\\degree$]')\n",
    "plt.ylabel('Number of grains')\n",
    "plt.hist(misors12,bins=60)\n",
    "plt.xticks([0,5,10,20,30,40,50,60])\n",
    "plt.show()\n",
    "\n",
    "# Tilt13\n",
    "plt.figure()\n",
    "plt.title('Misorientation angle tilts 1 and 3')\n",
    "plt.xlabel('Degrees [$\\degree$]')\n",
    "plt.ylabel('Number of grains')\n",
    "plt.hist(misors13,bins=60)\n",
    "plt.xticks([0,7,10,20,30,40,50,60])\n",
    "plt.show()\n",
    "\n",
    "# Tilt23\n",
    "plt.figure()\n",
    "plt.title('Misorientation angle tilts 2 and 3')\n",
    "plt.xlabel('Degrees [$\\degree$]')\n",
    "plt.ylabel('Number of grains')\n",
    "plt.hist(misors23,bins=60)\n",
    "plt.xticks([0,5,10,20,30,40,50,60])\n",
    "plt.show()"
   ]
  }
 ],
 "metadata": {
  "kernelspec": {
   "display_name": "Python 3",
   "language": "python",
   "name": "python3"
  },
  "language_info": {
   "codemirror_mode": {
    "name": "ipython",
    "version": 3
   },
   "file_extension": ".py",
   "mimetype": "text/x-python",
   "name": "python",
   "nbconvert_exporter": "python",
   "pygments_lexer": "ipython3",
   "version": "3.11.4"
  }
 },
 "nbformat": 4,
 "nbformat_minor": 2
}
