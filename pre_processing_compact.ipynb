{
 "cells": [
  {
   "cell_type": "markdown",
   "metadata": {},
   "source": [
    "# Pre processing\n",
    "Pre processing structured as a function for ease."
   ]
  },
  {
   "cell_type": "code",
   "execution_count": 1,
   "metadata": {},
   "outputs": [],
   "source": [
    "%matplotlib qt"
   ]
  },
  {
   "cell_type": "code",
   "execution_count": 2,
   "metadata": {},
   "outputs": [
    {
     "name": "stderr",
     "output_type": "stream",
     "text": [
      "WARNING:silx.opencl.common:Unable to import pyOpenCl. Please install it from: https://pypi.org/project/pyopencl\n"
     ]
    }
   ],
   "source": [
    "import numpy as np\n",
    "import matplotlib.pyplot as plt\n",
    "import hyperspy.api as hs\n",
    "import pyxem as pxm\n",
    "from pathlib import Path\n",
    "from skimage import filters"
   ]
  },
  {
   "cell_type": "markdown",
   "metadata": {},
   "source": [
    "## Loading in the unprocessed data"
   ]
  },
  {
   "cell_type": "code",
   "execution_count": 3,
   "metadata": {},
   "outputs": [
    {
     "name": "stdout",
     "output_type": "stream",
     "text": [
      "Loading dataset c:\\Users\\KajaEA\\Project_assignment\\Code\\Template_matching2\\small_sample\\tilt1_small.zspy\n"
     ]
    },
    {
     "data": {
      "text/plain": [
       "<ElectronDiffraction2D, title: , dimensions: (128, 67|256, 256)>"
      ]
     },
     "execution_count": 3,
     "metadata": {},
     "output_type": "execute_result"
    }
   ],
   "source": [
    "\n",
    "\n",
    "\n",
    "# datapath = Path(\"D:/Project_thesis/Code_data/Sample_data/20230616_130045.zspy\")\n",
    "datapath = Path(\"./small_sample/tilt1_small.zspy\")\n",
    "print(f'Loading dataset {datapath.absolute()}')\n",
    "dataset = hs.load(str(datapath), lazy=False)\n",
    "dataset"
   ]
  },
  {
   "cell_type": "markdown",
   "metadata": {},
   "source": [
    "## Centering"
   ]
  },
  {
   "cell_type": "code",
   "execution_count": 4,
   "metadata": {},
   "outputs": [],
   "source": [
    "def make_nav_mask(signal, width=None):\n",
    "    mask = hs.signals.Signal2D(np.zeros(signal.axes_manager.navigation_shape, dtype=bool).T).T\n",
    "    if width is not None:\n",
    "        mask.inav[width:-width, width:-width] = True\n",
    "    return mask\n",
    "\n",
    "def correct_shifts_COM(signal, com_mask, nav_mask=None, plot_results=False, inplace=False):\n",
    "    com = signal.center_of_mass(mask=com_mask)\n",
    "    if plot_results:\n",
    "        com.get_bivariate_histogram().plot()\n",
    "        \n",
    "    beam_shift = pxm.signals.BeamShift(com.T)\n",
    "    beam_shift.make_linear_plane(mask=nav_mask)\n",
    "        \n",
    "    x_shift, y_shift = [beam_shift.isig[ax] - signal.axes_manager.signal_shape[ax]/2.0 for ax in (0, 1)]\n",
    "    \n",
    "    print(f'Estimated beam shift X min/max = ({x_shift.min().data}, {x_shift.max().data})\\nEstimated beam shift Y min/max = ({y_shift.min().data}, {y_shift.max().data})')\n",
    "    \n",
    "    dp_max_before = signal.max(axis=[0, 1])\n",
    "    \n",
    "    #A trick to make sure that the shifted signal contains the same metadata etc as the original signal. Might not be needed...\n",
    "    if not inplace:\n",
    "        shifted_signal = signal.deepcopy()\n",
    "    else:\n",
    "        shifted_signal = signal\n",
    "    \n",
    "    shifted_signal.shift_diffraction(x_shift, y_shift, inplace=True)\n",
    "    \n",
    "    dp_max_after = shifted_signal.max(axis=[0, 1])\n",
    "        \n",
    "    if plot_results:\n",
    "        hs.plot.plot_images([dp_max_before, dp_max_after], overlay=True, colors=['w', 'r'], axes_decor='off', alphas=[1, 0.75])\n",
    "    \n",
    "    return shifted_signal, x_shift, y_shift"
   ]
  },
  {
   "cell_type": "code",
   "execution_count": 5,
   "metadata": {},
   "outputs": [
    {
     "data": {
      "text/plain": [
       "<hyperspy.drawing._widgets.circle.CircleWidget at 0x20302d5fd50>"
      ]
     },
     "execution_count": 5,
     "metadata": {},
     "output_type": "execute_result"
    },
    {
     "name": "stderr",
     "output_type": "stream",
     "text": [
      "c:\\Users\\KajaEA\\miniconda3\\envs\\pyxem\\Lib\\site-packages\\ipykernel\\eventloops.py:128: UserWarning: All values for SymLogScale are below linthresh, making it effectively linear. You likely should lower the value of linthresh. \n",
      "  el.exec() if hasattr(el, 'exec') else el.exec_()\n"
     ]
    }
   ],
   "source": [
    "dp_max = dataset.max(axis=[0, 1])\n",
    "\n",
    "dp_max.plot(norm='symlog')\n",
    "x0, y0 = dp_max.axes_manager.signal_shape\n",
    "x0, y0 = x0//2, y0//2\n",
    "roi = hs.roi.CircleROI(x0, y0, 10)\n",
    "roi.add_widget(dp_max)"
   ]
  },
  {
   "cell_type": "code",
   "execution_count": 6,
   "metadata": {},
   "outputs": [
    {
     "name": "stdout",
     "output_type": "stream",
     "text": [
      "[########################################] | 100% Completed | 122.76 s\n",
      "Estimated beam shift X min/max = ([-3.14599124], [-1.15347152])\n",
      "Estimated beam shift Y min/max = ([-3.28736481], [-1.74927573])\n",
      "[########################################] | 100% Completed | 152.65 s\n",
      "[########################################] | 100% Completed | 112.86 s\n",
      "Estimated beam shift X min/max = ([-0.12286907], [0.09448368])\n",
      "Estimated beam shift Y min/max = ([-0.16089316], [0.04410607])\n",
      "[########################################] | 100% Completed | 157.21 s\n"
     ]
    }
   ],
   "source": [
    "\n",
    "shifted_signal, shift_x, shift_y = correct_shifts_COM(dataset, (roi.cx, roi.cy, roi.r), plot_results=True)\n",
    "# If we want to center another time!\n",
    "nx, ny = shifted_signal.axes_manager.signal_shape\n",
    "nx, ny = nx/2.0, ny/2.0\n",
    "shifted_signal_2, shift_x, shift_y = correct_shifts_COM(shifted_signal, (nx, ny, roi.r,), plot_results=True)\n",
    "dataset = shifted_signal_2"
   ]
  },
  {
   "cell_type": "code",
   "execution_count": 7,
   "metadata": {},
   "outputs": [],
   "source": [
    "scale = 0.009451434347767504\n",
    "dataset.set_diffraction_calibration(scale)"
   ]
  },
  {
   "cell_type": "code",
   "execution_count": 8,
   "metadata": {},
   "outputs": [],
   "source": [
    "dataset.save(\"D:/Project_thesis/Code_data/Sample_data/20230616_130045_centered.zspy\")"
   ]
  },
  {
   "cell_type": "markdown",
   "metadata": {},
   "source": [
    "## Crop data"
   ]
  },
  {
   "cell_type": "code",
   "execution_count": null,
   "metadata": {},
   "outputs": [],
   "source": [
    "dataset.plot(norm = 'symlog')\n",
    "roi = hs.roi.RectangularROI(left=89.62, right=219.0, top=20.94, bottom=113.0) # Must change for each tilt\n",
    "roi.add_widget(dataset)"
   ]
  },
  {
   "cell_type": "code",
   "execution_count": null,
   "metadata": {},
   "outputs": [],
   "source": [
    "dataset = roi(dataset)"
   ]
  },
  {
   "cell_type": "markdown",
   "metadata": {},
   "source": [
    "## Processing\n",
    "Function for pre processing already centered data"
   ]
  },
  {
   "cell_type": "code",
   "execution_count": 4,
   "metadata": {},
   "outputs": [],
   "source": [
    "def set_threshold_below(signal,threshold,background_value):\n",
    "    signal.data = np.where(signal.data<threshold,background_value,signal.data)\n",
    "    return signal.data\n",
    "\n",
    "def set_threshold_above(signal,threshold,background_value):\n",
    "    signal.data = np.where(signal.data>threshold,background_value,signal.data)\n",
    "    return signal.data\n",
    "\n",
    "def pre_processing(centered_data):\n",
    "    # Normalizing the data\n",
    "    centered_data = centered_data / centered_data.max(axis=[0, 1, 2, 3]).data\n",
    "    centered_data.data.dtype\n",
    "    # Background subtraction\n",
    "    method = 'difference of gaussians'\n",
    "    min_sigma = 5 #2.0  #3.2 used before\n",
    "    max_sigma = 9 #6.0  # used 12.0 before\n",
    "    centered_data = centered_data.subtract_diffraction_background(method=method, min_sigma=min_sigma,\n",
    "                                                    max_sigma=max_sigma, lazy_result=True)\n",
    "    centered_data.metadata.add_dictionary(\n",
    "        {'Preprocessing': \n",
    "            {'Background': \n",
    "                {'method': method,\n",
    "                'min_sigma': min_sigma,\n",
    "                'max_sigma': max_sigma}\n",
    "            }\n",
    "        }\n",
    "    )\n",
    "    # Masking the center spot\n",
    "    len_data = np.shape(centered_data.data)[-1]\n",
    "    center_mask = np.ones((len_data,len_data))\n",
    "    center_mask[int(len_data/2)-8:int(len_data/2)+8,int(len_data/2)-8:int(len_data/2)+8]= 0\n",
    "    centered_data.data *= center_mask\n",
    "    # Gaussian smoothing\n",
    "    smoothing_sigma = 0.5\n",
    "    centered_data.map(filters.gaussian, sigma=smoothing_sigma, inplace=True)\n",
    "    centered_data.metadata.add_dictionary(\n",
    "        {'Preprocessing': \n",
    "            {'Smoothing': \n",
    "                {'method': \"filters.gaussian\",\n",
    "                'sigma': smoothing_sigma}\n",
    "            }\n",
    "        }\n",
    "    )\n",
    "    # Thresholding to remove\n",
    "    set_threshold_above(centered_data,0.01,0.01) # Upper limit\n",
    "    set_threshold_below(centered_data,0.0006,0) # Lower limit\n",
    "\n",
    "    return centered_data\n"
   ]
  },
  {
   "cell_type": "markdown",
   "metadata": {},
   "source": [
    "## Process the dataset using the function above"
   ]
  },
  {
   "cell_type": "code",
   "execution_count": null,
   "metadata": {},
   "outputs": [],
   "source": [
    "# Loaf in \n",
    "datapath = Path(\"D:/Project_thesis/Code_data/Sample_data/20230616_130045_centered.zspy\")\n",
    "# datapath = Path(\"./Midway_data/image_calibrated_centered.zspy\")\n",
    "print(f'Loading dataset {datapath.absolute()}')\n",
    "dataset = hs.load(str(datapath), lazy=False)\n",
    "dataset"
   ]
  },
  {
   "cell_type": "code",
   "execution_count": 5,
   "metadata": {},
   "outputs": [
    {
     "name": "stderr",
     "output_type": "stream",
     "text": [
      "c:\\Users\\KajaEA\\miniconda3\\envs\\pyxem\\Lib\\site-packages\\pyxem\\signals\\diffraction2d.py:383: VisibleDeprecationWarning: Argument `lazy_result` is deprecated and will be removed in version 1.0.0. To avoid this warning, please do not use `lazy_result`. Use `lazy_output` instead. See the documentation of `subtract_diffraction_background()` for more details.\n",
      "  name=\"lazy_result\", alternative=\"lazy_output\", since=\"0.15.0\", removal=\"1.0.0\"\n"
     ]
    }
   ],
   "source": [
    "processed_data = pre_processing(dataset)"
   ]
  },
  {
   "cell_type": "code",
   "execution_count": 6,
   "metadata": {},
   "outputs": [],
   "source": [
    "# processed_data.save('d:/Project_thesis/Code_data/Sample_data_post/20231010_192356_processed_cropped_v1.zspy')\n",
    "processed_data.save('./small_sample/tilt1_small_processed.zspy')"
   ]
  },
  {
   "cell_type": "code",
   "execution_count": null,
   "metadata": {},
   "outputs": [],
   "source": [
    "# datapath = Path(\"D:/Project_thesis/Code_data/Sample_data_post/20231010_192356.zspy\")\n",
    "datapath = Path(\"./Midway_data/processed_image_v6.zspy\")\n",
    "print(f'Loading dataset {datapath.absolute()}')\n",
    "processed_data = hs.load(str(datapath), lazy=False)\n",
    "processed_data"
   ]
  },
  {
   "cell_type": "code",
   "execution_count": null,
   "metadata": {},
   "outputs": [],
   "source": [
    "scale = 0.009451434347767504\n",
    "processed_data.set_diffraction_calibration(scale)\n",
    "processed_data.set_scan_calibration(scale)\n",
    "\n",
    "dataset.set_diffraction_calibration(scale)\n",
    "dataset.set_scan_calibration(scale)"
   ]
  },
  {
   "cell_type": "code",
   "execution_count": null,
   "metadata": {},
   "outputs": [],
   "source": [
    "# Plot pre and post processed data:\n",
    "hs.plot.plot_signals([dataset,processed_data],cmap = 'magma_r',norm = 'symlog',title=' ')\n"
   ]
  },
  {
   "cell_type": "code",
   "execution_count": null,
   "metadata": {},
   "outputs": [],
   "source": [
    "processed_data.plot(cmap='magma_r')"
   ]
  },
  {
   "cell_type": "code",
   "execution_count": null,
   "metadata": {},
   "outputs": [],
   "source": []
  }
 ],
 "metadata": {
  "kernelspec": {
   "display_name": "Python 3",
   "language": "python",
   "name": "python3"
  },
  "language_info": {
   "codemirror_mode": {
    "name": "ipython",
    "version": 3
   },
   "file_extension": ".py",
   "mimetype": "text/x-python",
   "name": "python",
   "nbconvert_exporter": "python",
   "pygments_lexer": "ipython3",
   "version": "3.11.4"
  },
  "orig_nbformat": 4
 },
 "nbformat": 4,
 "nbformat_minor": 2
}
