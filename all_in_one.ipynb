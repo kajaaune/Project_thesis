{
 "cells": [
  {
   "cell_type": "code",
   "execution_count": 1,
   "metadata": {},
   "outputs": [
    {
     "name": "stderr",
     "output_type": "stream",
     "text": [
      "WARNING:silx.opencl.common:Unable to import pyOpenCl. Please install it from: https://pypi.org/project/pyopencl\n"
     ]
    }
   ],
   "source": [
    "%matplotlib qt5\n",
    "\n",
    "from pathlib import Path\n",
    "import pickle\n",
    "\n",
    "from orix import io, plot\n",
    "# from orix.quaternion import Orientation\n",
    "from orix.vector import Vector3d\n",
    "\n",
    "import hyperspy.api as hs #General hyperspy package\n",
    "import pyxem as pxm #Electron diffraction tools based on hyperspy\n",
    "import numpy as np #General numerical and matrix support\n",
    "import matplotlib.pyplot as plt #Plotting tools\n",
    "import matplotlib.colors as mcolors #Some plotting color tools\n",
    "from matplotlib.cm import ScalarMappable\n",
    "import diffpy #Electron diffraction tools\n",
    "import requests\n",
    "\n",
    "# import pandas as pd\n",
    "# import seaborn as sb\n",
    "\n",
    "#Import indexation and plotting tools\n",
    "from diffsims.generators.rotation_list_generators import get_beam_directions_grid\n",
    "from diffsims.libraries.structure_library import StructureLibrary\n",
    "from diffsims.generators.diffraction_generator import DiffractionGenerator\n",
    "from diffsims.generators.library_generator import DiffractionLibraryGenerator\n",
    "from pyxem.utils import indexation_utils as iutls\n",
    "from pyxem.utils import plotting_utils as putls\n",
    "from pyxem.utils import polar_transform_utils as ptutls\n",
    "from pyxem.utils import expt_utils as eutls\n",
    "\n",
    "#Import orientation handling tools\n",
    "from orix.quaternion import Rotation, symmetry, Orientation\n",
    "from orix.vector.vector3d import Vector3d\n",
    "from orix.projections import StereographicProjection\n",
    "from orix import plot\n",
    "\n",
    "import matplotlib\n",
    "matplotlib.rcParams[\"backend\"] = \"Agg\"\n",
    "from orix.crystal_map.crystal_map import CrystalMap"
   ]
  },
  {
   "cell_type": "markdown",
   "metadata": {},
   "source": [
    "## One notebook for all the processes needed to template match centered data"
   ]
  },
  {
   "cell_type": "code",
   "execution_count": null,
   "metadata": {},
   "outputs": [],
   "source": []
  },
  {
   "cell_type": "markdown",
   "metadata": {},
   "source": [
    "## Template matching"
   ]
  },
  {
   "cell_type": "code",
   "execution_count": null,
   "metadata": {},
   "outputs": [],
   "source": [
    "def change_step_size(xmap, pixel_size, scan_unit):\n",
    "    \"\"\"Change the step size of an orix CrystalMap\n",
    "    \n",
    "    \"\"\"\n",
    "    x = xmap.x * pixel_size\n",
    "    y = xmap.y * pixel_size\n",
    "    rot = xmap.rotations\n",
    "    phaseid = xmap.phase_id\n",
    "    prop = xmap.prop\n",
    "    is_in_data = xmap.is_in_data\n",
    "    phaselist = xmap.phases\n",
    "    new_xmap = CrystalMap(rotations = rot,\n",
    "                        phase_id = phaseid,\n",
    "                        x = x,\n",
    "                        y = y,\n",
    "                        prop = prop,\n",
    "                        scan_unit = scan_unit,\n",
    "                        is_in_data = is_in_data,\n",
    "                        phase_list=phaselist)\n",
    "    return new_xmap"
   ]
  },
  {
   "cell_type": "code",
   "execution_count": 3,
   "metadata": {},
   "outputs": [],
   "source": [
    "# after the dataset is processed\n",
    "def tm_and_plot(libpath,datapath,name):\n",
    "    # rot_z = 150.\n",
    "    # rot_z = 180-310. # cycled\n",
    "    # pixel_size = 15.356\n",
    "    # scan_unit = \"nm\"\n",
    "    # load data\n",
    "    with open(libpath, 'rb') as fp: # With b sub\n",
    "        library = pickle.load(fp)\n",
    "    processed_data = hs.load(str(datapath), lazy=True)\n",
    "    cs = symmetry.Oh\n",
    "    # Correct scale\n",
    "    scale = 0.009451434347767504\n",
    "    processed_data.set_diffraction_calibration(scale)\n",
    "    processed_data.set_scan_calibration(scale)\n",
    "\n",
    "    frac_keep = 1 \n",
    "    result, phasedict = iutls.index_dataset_with_template_rotation(processed_data.inav[::1],\n",
    "                                                        library,\n",
    "                                                    phases = [\"LNMO\"],  # if we have multiple phases we can also specify which ones we want to consider. If it's not specified, all phases are used.\n",
    "                                                    n_best = 1, # CHANGE BACK TO 3\n",
    "                                                    frac_keep = frac_keep,\n",
    "                                                    n_keep = None,\n",
    "                                                    delta_r = 1,\n",
    "                                                    delta_theta = 1,\n",
    "                                                    max_r = np.min(processed_data.axes_manager.signal_shape)//2,\n",
    "                                                    intensity_transform_function=lambda x: x**0.09,#x**0.15,#c*np.log(1+x),#np.where(x>0.0006,x**0.15,-1.2),# x**0.15, #None,\n",
    "                                                    normalize_images = True,\n",
    "                                                    normalize_templates=True,\n",
    "                                                    )\n",
    "    \n",
    "    # Rotate\n",
    "    # result[\"orientation\"][:,:,:,0] = result[\"orientation\"][:,:,:,0] + rot_z\n",
    "    # Set scale\n",
    "    \n",
    "    xmap = iutls.results_dict_to_crystal_map(result, phasedict, diffraction_library=library)\n",
    "    xmap.phases[0].space_group = 227 \n",
    "    # xmap.phases[0].space_group = 212\n",
    "\n",
    "    xmap.correlation = np.nan_to_num(xmap.correlation) # If any correlation scores are NaN\n",
    "    # xmap = change_step_size(xmap, pixel_size, scan_unit)\n",
    "\n",
    "    # Save in both places\n",
    "    io.save(f\"./small_sample/{name}.h5\", xmap) \n",
    "    io.save(f\"./small_sample/{name}.ang\",xmap)\n",
    "    # io.save(\"./small_sample/small_xmap1.h5\",xmap)\n",
    "\n",
    "    # Make crystal map\n",
    "    ipf_key = plot.IPFColorKeyTSL(xmap.phases[0].point_group, direction=Vector3d.xvector())\n",
    "    rgb = ipf_key.orientation2color(xmap.orientations)\n",
    "    fig = xmap.plot(rgb, remove_padding=True, return_figure=True)\n"
   ]
  },
  {
   "cell_type": "code",
   "execution_count": null,
   "metadata": {},
   "outputs": [],
   "source": [
    "# tm_and_plot(\"./Libraries/lib_9.pkl\",\"./Midway_data/processed_image_v6.zspy\",\"xmap1_v8\")"
   ]
  },
  {
   "cell_type": "markdown",
   "metadata": {},
   "source": [
    "## Run for multiple datasets"
   ]
  },
  {
   "cell_type": "code",
   "execution_count": null,
   "metadata": {},
   "outputs": [],
   "source": [
    "lib_path = \"D:/Project_thesis/Code_data/lib_9.pkl\"\n",
    "# data_list = [\"./Midway_data_post/processed_image_v6.zspy\",\"./Midway_data_post/processed_image2_v6.zspy\",\"./Midway_data_post/processed_image3_v6.zspy\"]\n",
    "# data_list = [\"D:/Project_thesis/Code_data/Sample_data/20230616_130045_centered.zspy\",\n",
    "#              \"D:/Project_thesis/Code_data/Sample_data/20230616_145334_centered.zspy\",\n",
    "#              \"D:/Project_thesis/Code_data/Sample_data/20230616_153716_centered.zspy\"]\n",
    "# data_list = [\"D:/Project_thesis/Code_data/Sample_data_post/20231010_171125_centered.zspy\",\n",
    "#              \"D:/Project_thesis/Code_data/Sample_data_post/20231010_182535_centered.zspy\",\n",
    "#              \"D:/Project_thesis/Code_data/Sample_data_post/20231010_192356_centered.zspy\"]\n",
    "\n",
    "data_list = [] # 20230616_130045, 20230616_145334, 20230616_153716\n",
    "# data_list = [] # 20231010_171125, 20231010_182535, 20231010_192356\n",
    "name_list = [\"xmap1_whole\",\"xmap2_whole\",\"xmap3_whole\"]\n",
    "# name_list = [\"xmap1_post_whole\",\"xmap2_post_whole\",\"xmap3_post_whole\"]\n",
    "\n",
    "\n",
    "for i in range(0,3):\n",
    "    tm_and_plot(lib_path,data_list[i],name_list[i])"
   ]
  },
  {
   "cell_type": "code",
   "execution_count": 4,
   "metadata": {},
   "outputs": [
    {
     "name": "stdout",
     "output_type": "stream",
     "text": [
      "[#################                       ] | 42% Completed | 39m 42ss"
     ]
    },
    {
     "name": "stderr",
     "output_type": "stream",
     "text": [
      "c:\\Users\\KajaEA\\miniconda3\\envs\\pyxem\\Lib\\site-packages\\pyxem\\utils\\indexation_utils.py:877: RuntimeWarning: invalid value encountered in divide\n",
      "  polar_image = polar_image / dispatcher.linalg.norm(polar_image)\n"
     ]
    },
    {
     "name": "stdout",
     "output_type": "stream",
     "text": [
      "[########################################] | 100% Completed | 102m 2s\n"
     ]
    }
   ],
   "source": [
    "tm_and_plot(\"./Libraries/lib_other_structure.pkl\",'./small_sample/tilt1_small.zspy','xmap1_small')"
   ]
  },
  {
   "cell_type": "code",
   "execution_count": null,
   "metadata": {},
   "outputs": [],
   "source": []
  }
 ],
 "metadata": {
  "kernelspec": {
   "display_name": "Python 3",
   "language": "python",
   "name": "python3"
  },
  "language_info": {
   "codemirror_mode": {
    "name": "ipython",
    "version": 3
   },
   "file_extension": ".py",
   "mimetype": "text/x-python",
   "name": "python",
   "nbconvert_exporter": "python",
   "pygments_lexer": "ipython3",
   "version": "3.11.4"
  }
 },
 "nbformat": 4,
 "nbformat_minor": 2
}
